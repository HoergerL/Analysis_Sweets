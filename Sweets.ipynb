{
 "cells": [
  {
   "cell_type": "markdown",
   "metadata": {},
   "source": [
    "# Fallstudie: Erweiterung des Süßwarensortiments (Eigenmarke)\n",
    "\n",
    "In dieser Fallstudie geht es um die Erforschung der Charakteristika von Süßigkeiten, um davon ausgehend eine neue, möglichst gute Süßigkeit zu erstellen. Die zugrundeliegenden Daten sind dabei von einem [GitHub Repository](https://github.com/fivethirtyeight/data/tree/master/candy-power-ranking).\n",
    "\n",
    "Der Datensatz beinhaltet 85 verschiedene Süßigkeiten, die dazugehörgigen Katrgorien, die Zucker und Preis Spanne und die Winperecent. Die Daten sind zwar nicht wissenschaftlich erhoben worden, basieren aber auf einer Umfrage mit 290.000 Meinungen, die uns einen Einblick in die Präferenzen von Süßigkeiten geben können.\n",
    "\n",
    "\n",
    "Wir beginnen damit, die Bibliotheken und die Daten in das Notebook zu laden, die Daten zu untersuchen und einige grundlegende Einblicke in die deskriptiven Statistiken zu erhalten. Als Nächstes visualisieren wir einige der Daten, um ein intuitiveres Verständnis für die Daten zu bekommen, bevor wir versuchen, das beste Süßigkeitenrezept zu finden."
   ]
  },
  {
   "cell_type": "code",
   "execution_count": 1,
   "metadata": {},
   "outputs": [],
   "source": [
    "# necessary imports\n",
    "import pandas as pd\n",
    "import numpy as np\n",
    "import matplotlib.pyplot as plt\n",
    "from sklearn.linear_model import LinearRegression\n",
    "import seaborn as sns"
   ]
  },
  {
   "cell_type": "code",
   "execution_count": 2,
   "metadata": {
    "scrolled": true
   },
   "outputs": [
    {
     "name": "stdout",
     "output_type": "stream",
     "text": [
      "Mein Datanset besteht aus 85 Datensätzen mit jeweils 13 Attributen.\n"
     ]
    }
   ],
   "source": [
    "# read csv into variable dataset\n",
    "dataset = pd.read_csv('PATH TO CSV')\n",
    "print(f\"Mein Datanset besteht aus {dataset.shape[0]} Datensätzen mit jeweils {dataset.shape[1]} Attributen.\")"
   ]
  },
  {
   "cell_type": "code",
   "execution_count": 3,
   "metadata": {},
   "outputs": [
    {
     "data": {
      "text/html": [
       "<div>\n",
       "<style scoped>\n",
       "    .dataframe tbody tr th:only-of-type {\n",
       "        vertical-align: middle;\n",
       "    }\n",
       "\n",
       "    .dataframe tbody tr th {\n",
       "        vertical-align: top;\n",
       "    }\n",
       "\n",
       "    .dataframe thead th {\n",
       "        text-align: right;\n",
       "    }\n",
       "</style>\n",
       "<table border=\"1\" class=\"dataframe\">\n",
       "  <thead>\n",
       "    <tr style=\"text-align: right;\">\n",
       "      <th></th>\n",
       "      <th>competitorname</th>\n",
       "      <th>chocolate</th>\n",
       "      <th>fruity</th>\n",
       "      <th>caramel</th>\n",
       "      <th>peanutyalmondy</th>\n",
       "      <th>nougat</th>\n",
       "      <th>crispedricewafer</th>\n",
       "      <th>hard</th>\n",
       "      <th>bar</th>\n",
       "      <th>pluribus</th>\n",
       "      <th>sugarpercent</th>\n",
       "      <th>pricepercent</th>\n",
       "      <th>winpercent</th>\n",
       "    </tr>\n",
       "  </thead>\n",
       "  <tbody>\n",
       "    <tr>\n",
       "      <th>0</th>\n",
       "      <td>100 Grand</td>\n",
       "      <td>1</td>\n",
       "      <td>0</td>\n",
       "      <td>1</td>\n",
       "      <td>0</td>\n",
       "      <td>0</td>\n",
       "      <td>1</td>\n",
       "      <td>0</td>\n",
       "      <td>1</td>\n",
       "      <td>0</td>\n",
       "      <td>0.732</td>\n",
       "      <td>0.860</td>\n",
       "      <td>66.971725</td>\n",
       "    </tr>\n",
       "    <tr>\n",
       "      <th>1</th>\n",
       "      <td>3 Musketeers</td>\n",
       "      <td>1</td>\n",
       "      <td>0</td>\n",
       "      <td>0</td>\n",
       "      <td>0</td>\n",
       "      <td>1</td>\n",
       "      <td>0</td>\n",
       "      <td>0</td>\n",
       "      <td>1</td>\n",
       "      <td>0</td>\n",
       "      <td>0.604</td>\n",
       "      <td>0.511</td>\n",
       "      <td>67.602936</td>\n",
       "    </tr>\n",
       "    <tr>\n",
       "      <th>2</th>\n",
       "      <td>One dime</td>\n",
       "      <td>0</td>\n",
       "      <td>0</td>\n",
       "      <td>0</td>\n",
       "      <td>0</td>\n",
       "      <td>0</td>\n",
       "      <td>0</td>\n",
       "      <td>0</td>\n",
       "      <td>0</td>\n",
       "      <td>0</td>\n",
       "      <td>0.011</td>\n",
       "      <td>0.116</td>\n",
       "      <td>32.261086</td>\n",
       "    </tr>\n",
       "    <tr>\n",
       "      <th>3</th>\n",
       "      <td>One quarter</td>\n",
       "      <td>0</td>\n",
       "      <td>0</td>\n",
       "      <td>0</td>\n",
       "      <td>0</td>\n",
       "      <td>0</td>\n",
       "      <td>0</td>\n",
       "      <td>0</td>\n",
       "      <td>0</td>\n",
       "      <td>0</td>\n",
       "      <td>0.011</td>\n",
       "      <td>0.511</td>\n",
       "      <td>46.116505</td>\n",
       "    </tr>\n",
       "    <tr>\n",
       "      <th>4</th>\n",
       "      <td>Air Heads</td>\n",
       "      <td>0</td>\n",
       "      <td>1</td>\n",
       "      <td>0</td>\n",
       "      <td>0</td>\n",
       "      <td>0</td>\n",
       "      <td>0</td>\n",
       "      <td>0</td>\n",
       "      <td>0</td>\n",
       "      <td>0</td>\n",
       "      <td>0.906</td>\n",
       "      <td>0.511</td>\n",
       "      <td>52.341465</td>\n",
       "    </tr>\n",
       "  </tbody>\n",
       "</table>\n",
       "</div>"
      ],
      "text/plain": [
       "  competitorname  chocolate  fruity  caramel  peanutyalmondy  nougat  \\\n",
       "0      100 Grand          1       0        1               0       0   \n",
       "1   3 Musketeers          1       0        0               0       1   \n",
       "2       One dime          0       0        0               0       0   \n",
       "3    One quarter          0       0        0               0       0   \n",
       "4      Air Heads          0       1        0               0       0   \n",
       "\n",
       "   crispedricewafer  hard  bar  pluribus  sugarpercent  pricepercent  \\\n",
       "0                 1     0    1         0         0.732         0.860   \n",
       "1                 0     0    1         0         0.604         0.511   \n",
       "2                 0     0    0         0         0.011         0.116   \n",
       "3                 0     0    0         0         0.011         0.511   \n",
       "4                 0     0    0         0         0.906         0.511   \n",
       "\n",
       "   winpercent  \n",
       "0   66.971725  \n",
       "1   67.602936  \n",
       "2   32.261086  \n",
       "3   46.116505  \n",
       "4   52.341465  "
      ]
     },
     "execution_count": 3,
     "metadata": {},
     "output_type": "execute_result"
    }
   ],
   "source": [
    "# check whether read in of data worked\n",
    "dataset.head()"
   ]
  },
  {
   "cell_type": "code",
   "execution_count": 4,
   "metadata": {},
   "outputs": [
    {
     "name": "stdout",
     "output_type": "stream",
     "text": [
      "<class 'pandas.core.frame.DataFrame'>\n",
      "RangeIndex: 85 entries, 0 to 84\n",
      "Data columns (total 13 columns):\n",
      " #   Column            Non-Null Count  Dtype  \n",
      "---  ------            --------------  -----  \n",
      " 0   competitorname    85 non-null     object \n",
      " 1   chocolate         85 non-null     int64  \n",
      " 2   fruity            85 non-null     int64  \n",
      " 3   caramel           85 non-null     int64  \n",
      " 4   peanutyalmondy    85 non-null     int64  \n",
      " 5   nougat            85 non-null     int64  \n",
      " 6   crispedricewafer  85 non-null     int64  \n",
      " 7   hard              85 non-null     int64  \n",
      " 8   bar               85 non-null     int64  \n",
      " 9   pluribus          85 non-null     int64  \n",
      " 10  sugarpercent      85 non-null     float64\n",
      " 11  pricepercent      85 non-null     float64\n",
      " 12  winpercent        85 non-null     float64\n",
      "dtypes: float64(3), int64(9), object(1)\n",
      "memory usage: 8.8+ KB\n"
     ]
    }
   ],
   "source": [
    "# get info about the properties of the attributes\n",
    "dataset.info()"
   ]
  },
  {
   "cell_type": "markdown",
   "metadata": {},
   "source": [
    "Aus der Info wird ersichtlich, dass keine Werte fehlen."
   ]
  },
  {
   "cell_type": "code",
   "execution_count": 5,
   "metadata": {
    "scrolled": false
   },
   "outputs": [
    {
     "data": {
      "text/html": [
       "<div>\n",
       "<style scoped>\n",
       "    .dataframe tbody tr th:only-of-type {\n",
       "        vertical-align: middle;\n",
       "    }\n",
       "\n",
       "    .dataframe tbody tr th {\n",
       "        vertical-align: top;\n",
       "    }\n",
       "\n",
       "    .dataframe thead th {\n",
       "        text-align: right;\n",
       "    }\n",
       "</style>\n",
       "<table border=\"1\" class=\"dataframe\">\n",
       "  <thead>\n",
       "    <tr style=\"text-align: right;\">\n",
       "      <th></th>\n",
       "      <th>count</th>\n",
       "      <th>mean</th>\n",
       "      <th>std</th>\n",
       "      <th>min</th>\n",
       "      <th>25%</th>\n",
       "      <th>50%</th>\n",
       "      <th>75%</th>\n",
       "      <th>max</th>\n",
       "    </tr>\n",
       "  </thead>\n",
       "  <tbody>\n",
       "    <tr>\n",
       "      <th>chocolate</th>\n",
       "      <td>85.0</td>\n",
       "      <td>0.435294</td>\n",
       "      <td>0.498738</td>\n",
       "      <td>0.000000</td>\n",
       "      <td>0.000000</td>\n",
       "      <td>0.000000</td>\n",
       "      <td>1.000000</td>\n",
       "      <td>1.00000</td>\n",
       "    </tr>\n",
       "    <tr>\n",
       "      <th>fruity</th>\n",
       "      <td>85.0</td>\n",
       "      <td>0.447059</td>\n",
       "      <td>0.500140</td>\n",
       "      <td>0.000000</td>\n",
       "      <td>0.000000</td>\n",
       "      <td>0.000000</td>\n",
       "      <td>1.000000</td>\n",
       "      <td>1.00000</td>\n",
       "    </tr>\n",
       "    <tr>\n",
       "      <th>caramel</th>\n",
       "      <td>85.0</td>\n",
       "      <td>0.164706</td>\n",
       "      <td>0.373116</td>\n",
       "      <td>0.000000</td>\n",
       "      <td>0.000000</td>\n",
       "      <td>0.000000</td>\n",
       "      <td>0.000000</td>\n",
       "      <td>1.00000</td>\n",
       "    </tr>\n",
       "    <tr>\n",
       "      <th>peanutyalmondy</th>\n",
       "      <td>85.0</td>\n",
       "      <td>0.164706</td>\n",
       "      <td>0.373116</td>\n",
       "      <td>0.000000</td>\n",
       "      <td>0.000000</td>\n",
       "      <td>0.000000</td>\n",
       "      <td>0.000000</td>\n",
       "      <td>1.00000</td>\n",
       "    </tr>\n",
       "    <tr>\n",
       "      <th>nougat</th>\n",
       "      <td>85.0</td>\n",
       "      <td>0.082353</td>\n",
       "      <td>0.276533</td>\n",
       "      <td>0.000000</td>\n",
       "      <td>0.000000</td>\n",
       "      <td>0.000000</td>\n",
       "      <td>0.000000</td>\n",
       "      <td>1.00000</td>\n",
       "    </tr>\n",
       "    <tr>\n",
       "      <th>crispedricewafer</th>\n",
       "      <td>85.0</td>\n",
       "      <td>0.082353</td>\n",
       "      <td>0.276533</td>\n",
       "      <td>0.000000</td>\n",
       "      <td>0.000000</td>\n",
       "      <td>0.000000</td>\n",
       "      <td>0.000000</td>\n",
       "      <td>1.00000</td>\n",
       "    </tr>\n",
       "    <tr>\n",
       "      <th>hard</th>\n",
       "      <td>85.0</td>\n",
       "      <td>0.176471</td>\n",
       "      <td>0.383482</td>\n",
       "      <td>0.000000</td>\n",
       "      <td>0.000000</td>\n",
       "      <td>0.000000</td>\n",
       "      <td>0.000000</td>\n",
       "      <td>1.00000</td>\n",
       "    </tr>\n",
       "    <tr>\n",
       "      <th>bar</th>\n",
       "      <td>85.0</td>\n",
       "      <td>0.247059</td>\n",
       "      <td>0.433861</td>\n",
       "      <td>0.000000</td>\n",
       "      <td>0.000000</td>\n",
       "      <td>0.000000</td>\n",
       "      <td>0.000000</td>\n",
       "      <td>1.00000</td>\n",
       "    </tr>\n",
       "    <tr>\n",
       "      <th>pluribus</th>\n",
       "      <td>85.0</td>\n",
       "      <td>0.517647</td>\n",
       "      <td>0.502654</td>\n",
       "      <td>0.000000</td>\n",
       "      <td>0.000000</td>\n",
       "      <td>1.000000</td>\n",
       "      <td>1.000000</td>\n",
       "      <td>1.00000</td>\n",
       "    </tr>\n",
       "    <tr>\n",
       "      <th>sugarpercent</th>\n",
       "      <td>85.0</td>\n",
       "      <td>0.478647</td>\n",
       "      <td>0.282778</td>\n",
       "      <td>0.011000</td>\n",
       "      <td>0.220000</td>\n",
       "      <td>0.465000</td>\n",
       "      <td>0.732000</td>\n",
       "      <td>0.98800</td>\n",
       "    </tr>\n",
       "    <tr>\n",
       "      <th>pricepercent</th>\n",
       "      <td>85.0</td>\n",
       "      <td>0.468882</td>\n",
       "      <td>0.285740</td>\n",
       "      <td>0.011000</td>\n",
       "      <td>0.255000</td>\n",
       "      <td>0.465000</td>\n",
       "      <td>0.651000</td>\n",
       "      <td>0.97600</td>\n",
       "    </tr>\n",
       "    <tr>\n",
       "      <th>winpercent</th>\n",
       "      <td>85.0</td>\n",
       "      <td>50.316764</td>\n",
       "      <td>14.714357</td>\n",
       "      <td>22.445341</td>\n",
       "      <td>39.141056</td>\n",
       "      <td>47.829754</td>\n",
       "      <td>59.863998</td>\n",
       "      <td>84.18029</td>\n",
       "    </tr>\n",
       "  </tbody>\n",
       "</table>\n",
       "</div>"
      ],
      "text/plain": [
       "                  count       mean        std        min        25%  \\\n",
       "chocolate          85.0   0.435294   0.498738   0.000000   0.000000   \n",
       "fruity             85.0   0.447059   0.500140   0.000000   0.000000   \n",
       "caramel            85.0   0.164706   0.373116   0.000000   0.000000   \n",
       "peanutyalmondy     85.0   0.164706   0.373116   0.000000   0.000000   \n",
       "nougat             85.0   0.082353   0.276533   0.000000   0.000000   \n",
       "crispedricewafer   85.0   0.082353   0.276533   0.000000   0.000000   \n",
       "hard               85.0   0.176471   0.383482   0.000000   0.000000   \n",
       "bar                85.0   0.247059   0.433861   0.000000   0.000000   \n",
       "pluribus           85.0   0.517647   0.502654   0.000000   0.000000   \n",
       "sugarpercent       85.0   0.478647   0.282778   0.011000   0.220000   \n",
       "pricepercent       85.0   0.468882   0.285740   0.011000   0.255000   \n",
       "winpercent         85.0  50.316764  14.714357  22.445341  39.141056   \n",
       "\n",
       "                        50%        75%       max  \n",
       "chocolate          0.000000   1.000000   1.00000  \n",
       "fruity             0.000000   1.000000   1.00000  \n",
       "caramel            0.000000   0.000000   1.00000  \n",
       "peanutyalmondy     0.000000   0.000000   1.00000  \n",
       "nougat             0.000000   0.000000   1.00000  \n",
       "crispedricewafer   0.000000   0.000000   1.00000  \n",
       "hard               0.000000   0.000000   1.00000  \n",
       "bar                0.000000   0.000000   1.00000  \n",
       "pluribus           1.000000   1.000000   1.00000  \n",
       "sugarpercent       0.465000   0.732000   0.98800  \n",
       "pricepercent       0.465000   0.651000   0.97600  \n",
       "winpercent        47.829754  59.863998  84.18029  "
      ]
     },
     "execution_count": 5,
     "metadata": {},
     "output_type": "execute_result"
    }
   ],
   "source": [
    "dataset.describe().T"
   ]
  },
  {
   "cell_type": "markdown",
   "metadata": {},
   "source": [
    "Wie zu erwarten, haben die Kategorien (bis aus sugarpercent, pricepercent und winpercent) einen Minimalwert von 0 \n",
    "und ein Maximum von 1. \n",
    "Anhand des Durchschnitts (Mean) können wir feststellen, dass die Kategorien caramel, peanutyalmondy, nougat, \n",
    "crispedricewafer, hard und bar unterrepräsentiert sind (das ist auch im unten stehenden Diagramm ersichtlich). Dies lässt 2 mögliche Schlüsse zu: Entweder der Datensatz ist unausgewogen und es fehlen Süßigkeiten, dann müssen weitere Untersuchungen zu dem Thema angestellt werden oder der Datensatz ist repräsentativ und diese Attribute sind im Bereich Süßigkeiten schlichtweg unterrepräsentiert, da sie beispielsweise nicht so beliebt sind."
   ]
  },
  {
   "cell_type": "code",
   "execution_count": 20,
   "metadata": {},
   "outputs": [
    {
     "data": {
      "text/plain": [
       "Text(0.5, 1.0, 'Verteilung Attribute')"
      ]
     },
     "execution_count": 20,
     "metadata": {},
     "output_type": "execute_result"
    },
    {
     "data": {
      "image/png": "[encoded data removed]",
      "text/plain": [
       "<Figure size 1440x576 with 1 Axes>"
      ]
     },
     "metadata": {
      "needs_background": "light"
     },
     "output_type": "display_data"
    }
   ],
   "source": [
    "frequency = dataset.loc[:,'chocolate':'pluribus']\n",
    "frequency = frequency.sum(axis=0)\n",
    "frequency\n",
    "frequency.plot.bar(color=[\"C0\", \"C1\", \"C2\",\"C3\",\"C4\", \"C5\", \"C6\", \"C7\", \"C8\"], figsize=(20,8))\n",
    "plt.title(\"Verteilung Attribute\", fontsize=18)"
   ]
  },
  {
   "cell_type": "code",
   "execution_count": 7,
   "metadata": {},
   "outputs": [],
   "source": [
    "# define the relavant attributes for the model\n",
    "X = dataset[['chocolate', 'fruity', 'caramel', 'peanutyalmondy', 'nougat', 'crispedricewafer', 'hard', 'bar', 'pluribus', 'sugarpercent', 'pricepercent']]"
   ]
  },
  {
   "cell_type": "code",
   "execution_count": 8,
   "metadata": {},
   "outputs": [],
   "source": [
    "# define the target\n",
    "y = dataset['winpercent']"
   ]
  },
  {
   "cell_type": "code",
   "execution_count": 9,
   "metadata": {},
   "outputs": [
    {
     "data": {
      "text/plain": [
       "LinearRegression()"
      ]
     },
     "execution_count": 9,
     "metadata": {},
     "output_type": "execute_result"
    }
   ],
   "source": [
    "# create the model and use it on the dataset\n",
    "regressor = LinearRegression()\n",
    "regressor.fit(X, y)"
   ]
  },
  {
   "cell_type": "code",
   "execution_count": 10,
   "metadata": {},
   "outputs": [
    {
     "data": {
      "text/html": [
       "<div>\n",
       "<style scoped>\n",
       "    .dataframe tbody tr th:only-of-type {\n",
       "        vertical-align: middle;\n",
       "    }\n",
       "\n",
       "    .dataframe tbody tr th {\n",
       "        vertical-align: top;\n",
       "    }\n",
       "\n",
       "    .dataframe thead th {\n",
       "        text-align: right;\n",
       "    }\n",
       "</style>\n",
       "<table border=\"1\" class=\"dataframe\">\n",
       "  <thead>\n",
       "    <tr style=\"text-align: right;\">\n",
       "      <th></th>\n",
       "      <th>Coefficient</th>\n",
       "    </tr>\n",
       "  </thead>\n",
       "  <tbody>\n",
       "    <tr>\n",
       "      <th>chocolate</th>\n",
       "      <td>19.748067</td>\n",
       "    </tr>\n",
       "    <tr>\n",
       "      <th>fruity</th>\n",
       "      <td>9.422322</td>\n",
       "    </tr>\n",
       "    <tr>\n",
       "      <th>caramel</th>\n",
       "      <td>2.224481</td>\n",
       "    </tr>\n",
       "    <tr>\n",
       "      <th>peanutyalmondy</th>\n",
       "      <td>10.070688</td>\n",
       "    </tr>\n",
       "    <tr>\n",
       "      <th>nougat</th>\n",
       "      <td>0.804331</td>\n",
       "    </tr>\n",
       "    <tr>\n",
       "      <th>crispedricewafer</th>\n",
       "      <td>8.918970</td>\n",
       "    </tr>\n",
       "    <tr>\n",
       "      <th>hard</th>\n",
       "      <td>-6.165327</td>\n",
       "    </tr>\n",
       "    <tr>\n",
       "      <th>bar</th>\n",
       "      <td>0.441540</td>\n",
       "    </tr>\n",
       "    <tr>\n",
       "      <th>pluribus</th>\n",
       "      <td>-0.854500</td>\n",
       "    </tr>\n",
       "    <tr>\n",
       "      <th>sugarpercent</th>\n",
       "      <td>9.086763</td>\n",
       "    </tr>\n",
       "    <tr>\n",
       "      <th>pricepercent</th>\n",
       "      <td>-5.928361</td>\n",
       "    </tr>\n",
       "  </tbody>\n",
       "</table>\n",
       "</div>"
      ],
      "text/plain": [
       "                  Coefficient\n",
       "chocolate           19.748067\n",
       "fruity               9.422322\n",
       "caramel              2.224481\n",
       "peanutyalmondy      10.070688\n",
       "nougat               0.804331\n",
       "crispedricewafer     8.918970\n",
       "hard                -6.165327\n",
       "bar                  0.441540\n",
       "pluribus            -0.854500\n",
       "sugarpercent         9.086763\n",
       "pricepercent        -5.928361"
      ]
     },
     "execution_count": 10,
     "metadata": {},
     "output_type": "execute_result"
    }
   ],
   "source": [
    "# get the coefficients\n",
    "coeff_df = pd.DataFrame(regressor.coef_, X.columns, columns=['Coefficient'])\n",
    "coeff_df"
   ]
  },
  {
   "cell_type": "code",
   "execution_count": null,
   "metadata": {},
   "outputs": [],
   "source": []
  },
  {
   "cell_type": "code",
   "execution_count": 21,
   "metadata": {},
   "outputs": [
    {
     "data": {
      "image/png": "[encoded data removed]",
      "text/plain": [
       "<Figure size 1440x576 with 1 Axes>"
      ]
     },
     "metadata": {
      "needs_background": "light"
     },
     "output_type": "display_data"
    }
   ],
   "source": [
    "# combine the coeffs and the features in a data frame\n",
    "coeffs_dataset = pd.DataFrame(coeff_df, X.columns).reset_index()\n",
    "\n",
    "# rename the columns appropriately\n",
    "coeffs_dataset.columns = ['candy_type', 'weight']\n",
    "\n",
    "# sort the result in descending order and save in place\n",
    "coeffs_dataset.sort_values('weight', ascending=False, inplace=True)\n",
    "\n",
    "plt.figure(figsize=(20, 8))\n",
    "plt.bar(x=coeffs_dataset['candy_type'], height=coeffs_dataset['weight'], color=['y', 'g', 'b', 'r', 'k', 'g'])\n",
    "plt.title('Verteilung Koeffizienten', fontsize=18);\n"
   ]
  },
  {
   "cell_type": "markdown",
   "metadata": {},
   "source": [
    "Durch die Koeffizienten wissen wir, dass Schokolade der Faktor ist, welcher den größten Einfluss auf die Winpercent hat. Dementsprechend sollte unsere Süßigkeit auf jeden Fall aus Schokolade bestehen.\n",
    "Ausschließen können wir die Eigenschaften hard und pluribus. Zudem wissen wir aufgrund des starken Einflusses von pricepercent, dass wir, um eine hohe winpercentage zu erreichen, eine möglichst niedrige pricepercentage erziehlen müssen.\n",
    "Ob die Sugarpercent in diesem Model überhaupt berücksichtigt werden sollte, ist fragwürdig, da sie mit Sicherheit abhängig von den anderen Attributen ist, daher wird sie in der weiteren Interpretation nicht berücksichtigt.\n",
    "Die Schokolade könnte dabei mit Fruity, peanutyalmondy und/oder crispedricewafer gemischt werden, alle haben einen etwa gleichwertigen Einfluss auf die Winpercent."
   ]
  },
  {
   "cell_type": "code",
   "execution_count": 12,
   "metadata": {},
   "outputs": [
    {
     "data": {
      "image/png": "[encoded data removed]",
      "text/plain": [
       "<Figure size 1080x576 with 2 Axes>"
      ]
     },
     "metadata": {
      "needs_background": "light"
     },
     "output_type": "display_data"
    }
   ],
   "source": [
    "# draw correlation chart\n",
    "corr = dataset.loc[:,'chocolate':'pluribus'].corr()\n",
    "plt.figure(figsize=(15,8))\n",
    "sns.heatmap(corr, annot=True);"
   ]
  },
  {
   "cell_type": "markdown",
   "metadata": {},
   "source": [
    "Aus diesem Schaubild können wir entnehmen, dass Schokolade besonders oft in Kombination mit caramel, peanutyalmondy, nougat und/oder crispedricewafer vorkommt. Aber nur sehr selten mit fruity. Woran dies liegt bzw. ob es trotzdem Sinn macht Scholoade mit Früchten zu mischen, kann nicht abschließend geklärt werden und sollte z.B. durch die Marktforschung untersucht werden. Vorerst wird die Kombination jedoch ausgeschlossen.\n",
    "Ebenso ist fraglich, wie viele Geschmacksrichtungen tatsächlich kombiniert werden könnten. Basierend auf der linearen Regression würden alle Attribute außer hard und pluribus eine Süßigkeit auf dem Papier verbessern. Jedoch würde sich die Süßigkeit bei der Mischung von zu vielen Geschmacksrichtungen vermutlich wieder verschlechtern.\n",
    "Die größte Korrelation hat Schokolade laut dem Schaubild allerdings mit bar. Da bar auch einen positiven Effekt auf die winpercent hat, sollte das neue Produkt auf jeden Fall aus Schokolade in Form eines Riegels entworfen werden.\n",
    "Wie anfangs erwähnt, ist die Kombination mit caramel, peanutyalmondy, nougat und/oder crispedricewafer basierend auf der Datengrundlage nur schwer einzuschätzen, da diese vergleichsweise wenig vorkommen. Um jedoch eine Empfehlung treffen zu können, würde ich mich an den beliebtesten 10 Produkten orientieren.\n",
    "\n",
    "\n"
   ]
  },
  {
   "cell_type": "code",
   "execution_count": 13,
   "metadata": {},
   "outputs": [
    {
     "data": {
      "image/png": "[encoded data removed]",
      "text/plain": [
       "<Figure size 1440x576 with 1 Axes>"
      ]
     },
     "metadata": {
      "needs_background": "light"
     },
     "output_type": "display_data"
    }
   ],
   "source": [
    "top_10 = dataset.sort_values('winpercent', ascending=False)[0:10]\n",
    "top_10 = top_10.loc[:, 'chocolate':'pluribus']\n",
    "\n",
    "top_10.sum().plot.bar(color=[\"C0\", \"C1\", \"C2\",\"C3\",\"C4\", \"C5\", \"C6\", \"C7\", \"C8\"], figsize=(20,8));\n",
    "plt.title('Attribute Top 10', fontsize=18);\n"
   ]
  },
  {
   "cell_type": "markdown",
   "metadata": {},
   "source": [
    "Von den Top 10 Produkten sind 10 / 10 aus Schokolade und 5 / 10 in Form eines Riegels (bar), dies untermauert die These, dass das neue Produkt aus Schokolade in Form eines Riegels sein sollte. \n",
    "7 / 10 Produkten sind außerdem peanutyalmondy, weshalb eine Kombination aus chocolate und peanutyalmondy sinnvoll erscheint. Da sich gemäß den Daten die Kombination mehrerer Eigenschaften positiv auf das Produkt auswirkt und durch durch den Artikel \"Snickers\" bekannt ist, dass die zusätzliche Kombination mit Karamel und Nougat beliebt ist, kann das  Produkt um diese Eigenschaften erweitert werden.\n",
    "Wenn von den Top 10 Produkten ausgegangen wird und von diesen auf das neue Produkt geschlossen wird, sollte jedoch darauf geachtet werden, dass der Markt nicht bereits mit solchen Produkten übersättigt ist bzw. möglicherweise mit einer guten Preisstrategie versuchen den Markt für uns zu erschließen.\n"
   ]
  },
  {
   "cell_type": "markdown",
   "metadata": {},
   "source": [
    "Da dies jedoch gesondert zu prüfen ist, würde ich basierend auf den Daten folgendes Produkt vorschlagen:\n",
    "- Ein Schokoladenriegel,\n",
    "- gefüllt mit Erdnüssen und Mandeln,\n",
    "- die von einer Mischung aus Karamell und Nougat umgeben sind\n",
    "- einen hohen sugarpercent hat\n",
    "- und mit einem möglichst niedrigen Pricepercent hergestellt wurden"
   ]
  },
  {
   "cell_type": "code",
   "execution_count": 14,
   "metadata": {},
   "outputs": [
    {
     "data": {
      "text/plain": [
       "0.4688823524941178"
      ]
     },
     "execution_count": 14,
     "metadata": {},
     "output_type": "execute_result"
    }
   ],
   "source": [
    "average_sugarpercent = dataset.sugarpercent.mean()\n",
    "average_sugarpercent\n",
    "\n",
    "average_pricepercent = dataset.pricepercent.mean()\n",
    "average_pricepercent"
   ]
  },
  {
   "cell_type": "code",
   "execution_count": 15,
   "metadata": {},
   "outputs": [
    {
     "data": {
      "text/html": [
       "<div>\n",
       "<style scoped>\n",
       "    .dataframe tbody tr th:only-of-type {\n",
       "        vertical-align: middle;\n",
       "    }\n",
       "\n",
       "    .dataframe tbody tr th {\n",
       "        vertical-align: top;\n",
       "    }\n",
       "\n",
       "    .dataframe thead th {\n",
       "        text-align: right;\n",
       "    }\n",
       "</style>\n",
       "<table border=\"1\" class=\"dataframe\">\n",
       "  <thead>\n",
       "    <tr style=\"text-align: right;\">\n",
       "      <th></th>\n",
       "      <th>0</th>\n",
       "      <th>1</th>\n",
       "      <th>2</th>\n",
       "      <th>3</th>\n",
       "      <th>4</th>\n",
       "      <th>5</th>\n",
       "      <th>6</th>\n",
       "      <th>7</th>\n",
       "      <th>8</th>\n",
       "      <th>9</th>\n",
       "      <th>10</th>\n",
       "    </tr>\n",
       "  </thead>\n",
       "  <tbody>\n",
       "    <tr>\n",
       "      <th>0</th>\n",
       "      <td>1.0</td>\n",
       "      <td>0.0</td>\n",
       "      <td>1.0</td>\n",
       "      <td>1.0</td>\n",
       "      <td>1.0</td>\n",
       "      <td>0.0</td>\n",
       "      <td>0.0</td>\n",
       "      <td>1.0</td>\n",
       "      <td>0.0</td>\n",
       "      <td>0.478647</td>\n",
       "      <td>0.468882</td>\n",
       "    </tr>\n",
       "  </tbody>\n",
       "</table>\n",
       "</div>"
      ],
      "text/plain": [
       "    0    1    2    3    4    5    6    7    8         9         10\n",
       "0  1.0  0.0  1.0  1.0  1.0  0.0  0.0  1.0  0.0  0.478647  0.468882"
      ]
     },
     "metadata": {},
     "output_type": "display_data"
    },
    {
     "name": "stdout",
     "output_type": "stream",
     "text": [
      "Die neu erstelle Süßigkeit hat eine winpercentage von etwa 69.39%.\n"
     ]
    }
   ],
   "source": [
    "new_candy = pd.DataFrame([1,0,1,1,1,0,0,1,0, average_sugarpercent, average_pricepercent]).T\n",
    "display(new_candy)\n",
    "prediction = regressor.predict(new_candy)\n",
    "print(f'Die neu erstelle Süßigkeit hat eine winpercentage von etwa {round(prediction[0],2)}%.')"
   ]
  },
  {
   "cell_type": "code",
   "execution_count": 16,
   "metadata": {},
   "outputs": [
    {
     "data": {
      "text/plain": [
       "0.011000000000000001"
      ]
     },
     "execution_count": 16,
     "metadata": {},
     "output_type": "execute_result"
    }
   ],
   "source": [
    "max_sugarpercent = dataset.sugarpercent.max()\n",
    "max_sugarpercent\n",
    "\n",
    "max_pricepercent = dataset.pricepercent.min()\n",
    "max_pricepercent"
   ]
  },
  {
   "cell_type": "markdown",
   "metadata": {},
   "source": [
    "Selbst mit einem durchschnittlichen Sugarpercent und einer durchschnittlichen Pricepercent wäre das Produkt bereits in den Top 15. "
   ]
  },
  {
   "cell_type": "code",
   "execution_count": 17,
   "metadata": {},
   "outputs": [
    {
     "data": {
      "text/html": [
       "<div>\n",
       "<style scoped>\n",
       "    .dataframe tbody tr th:only-of-type {\n",
       "        vertical-align: middle;\n",
       "    }\n",
       "\n",
       "    .dataframe tbody tr th {\n",
       "        vertical-align: top;\n",
       "    }\n",
       "\n",
       "    .dataframe thead th {\n",
       "        text-align: right;\n",
       "    }\n",
       "</style>\n",
       "<table border=\"1\" class=\"dataframe\">\n",
       "  <thead>\n",
       "    <tr style=\"text-align: right;\">\n",
       "      <th></th>\n",
       "      <th>0</th>\n",
       "      <th>1</th>\n",
       "      <th>2</th>\n",
       "      <th>3</th>\n",
       "      <th>4</th>\n",
       "      <th>5</th>\n",
       "      <th>6</th>\n",
       "      <th>7</th>\n",
       "      <th>8</th>\n",
       "      <th>9</th>\n",
       "      <th>10</th>\n",
       "    </tr>\n",
       "  </thead>\n",
       "  <tbody>\n",
       "    <tr>\n",
       "      <th>0</th>\n",
       "      <td>1.0</td>\n",
       "      <td>0.0</td>\n",
       "      <td>1.0</td>\n",
       "      <td>1.0</td>\n",
       "      <td>1.0</td>\n",
       "      <td>0.0</td>\n",
       "      <td>0.0</td>\n",
       "      <td>1.0</td>\n",
       "      <td>0.0</td>\n",
       "      <td>0.988</td>\n",
       "      <td>0.011</td>\n",
       "    </tr>\n",
       "  </tbody>\n",
       "</table>\n",
       "</div>"
      ],
      "text/plain": [
       "    0    1    2    3    4    5    6    7    8      9      10\n",
       "0  1.0  0.0  1.0  1.0  1.0  0.0  0.0  1.0  0.0  0.988  0.011"
      ]
     },
     "metadata": {},
     "output_type": "display_data"
    },
    {
     "name": "stdout",
     "output_type": "stream",
     "text": [
      "Die neu erstelle Süßigkeit hat eine winpercentage von etwa 76.74%.\n"
     ]
    }
   ],
   "source": [
    "new_candy = pd.DataFrame([1,0,1,1,1,0,0,1,0, max_sugarpercent, max_pricepercent]).T\n",
    "display(new_candy)\n",
    "prediction = regressor.predict(new_candy)\n",
    "print(f'Die neu erstelle Süßigkeit hat eine winpercentage von etwa {round(prediction[0],2)}%.')"
   ]
  },
  {
   "cell_type": "markdown",
   "metadata": {},
   "source": [
    "Wenn wir diese beiden weiter optimieren, beide wurden auf das Optimum, der im Datensatz vorkommenden Werte gesetzt, dann wäre die neue Süßigkeit bereits am Stelle 6 der beliebtesten Süßigkeiten. Folglich hat unsere neue Süßigkeit ein großes Potential eine der beliebtesten Süßigkeiten zu werden.\n",
    "Abschließend muss aber noch darauf hingewiesen werden, dass natürlich auch Faktoren, wie die Qualität der Zutaten oder Marketing/Werbung Einfluss auf die Beliebtheit des Produkts haben. Dies wird im Datensatz nicht berücksichtigt, weshalb es auch in der Entscheidungsfindung nicht berücksichtigt werden konnte."
   ]
  }
 ],
 "metadata": {
  "kernelspec": {
   "display_name": "Python 3",
   "language": "python",
   "name": "python3"
  },
  "language_info": {
   "codemirror_mode": {
    "name": "ipython",
    "version": 3
   },
   "file_extension": ".py",
   "mimetype": "text/x-python",
   "name": "python",
   "nbconvert_exporter": "python",
   "pygments_lexer": "ipython3",
   "version": "3.8.5"
  }
 },
 "nbformat": 4,
 "nbformat_minor": 4
}
